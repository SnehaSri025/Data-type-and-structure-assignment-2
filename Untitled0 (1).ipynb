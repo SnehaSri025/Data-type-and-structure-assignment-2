{
  "nbformat": 4,
  "nbformat_minor": 0,
  "metadata": {
    "colab": {
      "provenance": []
    },
    "kernelspec": {
      "name": "python3",
      "display_name": "Python 3"
    },
    "language_info": {
      "name": "python"
    }
  },
  "cells": [
    {
      "cell_type": "markdown",
      "source": [
        "                                            DATA TYPES AND STRUCTURES\n",
        "\n",
        "\n",
        "           THEORETICAL QUESTIONS\n",
        "\n",
        "\n",
        "1.What are data structures and why they are important?\n",
        "- Data strctures are specialized formats for organizing,storing,and accessing collections of data.They provide efficient ways to manage information based on its characteristics and intended use.They are important to choosing the right data structure significiantly impacts the efficiency and performance of your program.To simplify data manipulation,optimize searching and storing operations.\n",
        "\n",
        "2.Explain the difference between mutable and immutable data types with example?\n",
        "- Immutable data types are those that cannot be changed after they are created.Any attempt to modify an immutable objects will result in a new object being created.\n",
        " example:\n",
        "                 s= \"hello\"\n",
        "                 s[0] = \"H\"  # Raises a typeerror:'str' object does not support item assignment\n",
        "  Mutable data types are those that can be changed after they are created.Modifying a mutable object will change the original object.\n",
        "    example:\n",
        "                numbers= [1, 2, 3]\n",
        "                numbers[0]=10 #change the list to [10, 2, 3]\n",
        "                print(number) #output: [10, 2, 3]\n",
        "\n",
        "\n",
        "  \n",
        "3.What are the main differences between lists and tuples in python?\n",
        "- Tuples are immutable,faster,and suitable for constant data and lists are mutable,slower,and suitable for dynamic data.\n",
        "\n",
        "4.Describe how dictionaries store data?\n",
        "- key hashing: When a key-value pair is added to a dictionary, the key is hashed using a hash function,which generates a unique index for the key.\n",
        " Indexing: The hashed key is used to determine the index at which the corresponding value is stored in the dictionary's internal array.\n",
        " Collision Resolution: If two keys hash to the same index,the dictionary uses a collision resolution strategy,such as chaining or open addressing, to store the key-value pairs.\n",
        "\n",
        "5.Why might you use a set instead of a list in python?\n",
        "- Uniqueness of elements,fast membership testing,efficient insertion and deletion,use cases.\n",
        "\n",
        "6.What is a string in python and how is it different from a list?\n",
        "- A string is a sequence of characters,such as letters,numbers,or symbols,enclosed in quotes.strings are used to represent text data.\n",
        " And the differences are strings are immutable means that once a string is created,its contents cannot be modified,a sequence of characters,can be indexed and sliced,have methods specific to string manipulation,such as upper(),lower(),split(),and join().\n",
        "\n",
        "7.How do tuples ensure data integrity in python?\n",
        "- Tuples ensure data integrity in python by being immutable,meaning thet once a tuple is created,its contents cannot be modified.\n",
        "\n",
        "8.What is a hash table and how does it relate to dictionaries in python?\n",
        "- A hash table is a data structure that stores key-value pairs in an array using a hash function to map keys to indices of the array.In python,dictionaries are implemented as hash tables.\n",
        "\n",
        "9.Can lists contain different data types in python?\n",
        "- Yes,lists in python can contain different data types.this is one of the key features of python lists,making them a versatile and flexible data structure.\n",
        " It contains elements of different data types:integer(1),string(\"hello\"),float(3.14),boolean(true),nonetype(none).\n",
        "\n",
        "10.Explain why strings are immutable in python?\n",
        "- Immutable strings prevent malicious code from modifying sensitive data,such as passwords or encryption keys.\n",
        "  Immutable strings ensure that multiple threads can access the same string\n",
        "  without fear of one thread modifying the string and affecting other threads.\n",
        "  Immutable strings can be used as keys in dictionaries,which requires that the key be hashable and immutable.\n",
        "  Immutable strings simplify code and reduce the risk of bugs,as developers dont need to worry about strings being modified unexpectedly.\n",
        "\n",
        "11.what advantages do dictionaries offer over lists for certain tasks?\n",
        "- Dictionaries offers advantages over lists for tasks that require fast lookups,efficient data retrieval, and flexible dta structures.Dictionaries are particularly useful when working with key-value pairs,configuration data,or coaching mechanisms.\n",
        "\n",
        "12.Describe a scenario where using a tuple would be preferable over a list?\n",
        "- Scenario : Representing days of the week\n",
        "  Suppose u r building a calender application that needs to represent the days of the week.you want to store the names of the days in a collection that wont change\n",
        "  Tuple Solution\n",
        "  days_of_week = (\"monday\", \"tuesday\", \"wedneaday\", \"thursday\", \"friday\", saturday\", \"sunday\")\n",
        "  In this scenario,using a tuple is preferable because:\n",
        "  Immutability:The days of the week are constant and should not be changed.Tuples ensure thet the collection remains unchanged.\n",
        "  Performance:Tuples are faster and more memory-efficient than lists,which is benficial for range applications.\n",
        "  Code clarity:Using a tuple clearly communicates that the collection is constant and should not be modified.\n",
        "\n",
        "13.How do sets handle duplicate values in python?\n",
        "- In python,sets automatically handle duplicate values by ignoring them.\n",
        "  No duplicates allowed:sets only store unique elements and any duplicate values are automatically ignored.\n",
        "  Duplicate values are ignored:when u add a duplicate value to a set,it is simply ignored,and the set remains unchanged.\n",
        "14.How does the \"in\" keyword work differently foe lists and dictionary?\n",
        "- Lists:\n",
        " Element presence:for lists,the \"in\" keyword checks if a specific element is present in the list.\n",
        " Value comparison:the \"in\" keyword performs a value comparison between the target element and the elements in the list.\n",
        " Dictionaries:\n",
        " Key presence:for dictionaries,the \"in\" keyword checks if a specific key is present in the dictionary.\n",
        " Key lookup:The \"in\" keywoed performs a key lookup in the dictionary.\n",
        "\n",
        "15.Can you modify the elements of a tuple ? Explain why or why not?\n",
        "- Modifying tuple elements\n",
        "No,u cannot modify the elements of s tuple directly.Tuples are immutable,meaning that once a tuple is created,its contents cannot be changed.\n",
        "Why tuples are immutable\n",
        "Design choice:Tuples were designed to be immutable to provide a way to store collections of objects that should not be changed.\n",
        "Thresd safety:Immutable tuples ensure that multiple threads can access the same tuple without fear of one thread modifying the tuple and affecting others threads.\n",
        "\n",
        "16.What is a nested dictionary,and give an example of its use case?\n",
        "- A nested dictionary is a dictionary that contains another dictionary as its value.This allows for complex data structures and hierarchical organization of data.\n",
        "Example\n",
        " person = {\n",
        "  \"name\": \"john\",\n",
        "  \"age\": 30,\n",
        "  \"address\": {\n",
        "    \"street\": \"123 main\n",
        " st\",\n",
        "    \"city\": \"New York\",\n",
        "    \"state\": \"NY\",\n",
        "    \"Zip\": \"10001\"\n",
        "    }\n",
        " }\n",
        " Use case:Representing complex data nested dictionaries are useful for representing complex data structures,such as user profiles and product information.\n",
        "\n",
        "17.Describe the time complexity of accessing elments in a dictionaries?\n",
        "- The time complexity of accessing elements in a dictionary is o(1),also known as constant time complexity.This is because dictionaries use s hash table data structure,which allows for fast lockups.\n",
        "\n",
        "18.In what situations are lists preferred over dictionories?\n",
        "- To ordered data,index-based access,homogeneous data,sequence operations,small fixed-size collections.\n",
        "\n",
        "19.Why are dictionaries considered unordered,and how does that affect data retrieval?\n",
        "-While dictionaries in modern python maintain insertion order,its essential to understand the historical context and implications of dictionary ordering on data retrieval.By using keys to access values and avoiding assumptions about order,u can write more robust and efficient code.\n",
        "\n",
        "20.Explain the difference between a list and a dictionary in terms of data retrieval?\n",
        "-Lists and dictionaries differ in how you access data :lists use index-based access,while dictionaries use key-based access.This fundamental difference impacts how you retrieve data and which data structure is best suited for your applications\n",
        "\n",
        "\n",
        "\n",
        "      PRACTICAL QUESTIONS\n",
        "\n",
        "\n",
        "\n",
        "\n",
        "\n",
        "\n",
        "\n"
      ],
      "metadata": {
        "id": "al192qKr_09u"
      }
    },
    {
      "cell_type": "code",
      "source": [
        "# Write a code to create a string with your name and print it.\n",
        "name = \"sneha\"\n",
        "print(name)"
      ],
      "metadata": {
        "colab": {
          "base_uri": "https://localhost:8080/"
        },
        "id": "ZaJ0WEM9JVDj",
        "outputId": "f4d5285d-2d97-4a28-8593-4ff44e0543c3"
      },
      "execution_count": 2,
      "outputs": [
        {
          "output_type": "stream",
          "name": "stdout",
          "text": [
            "sneha\n"
          ]
        }
      ]
    },
    {
      "cell_type": "code",
      "source": [
        "# Write a code to find the length of the string \"Hello World\".\n",
        "string = \"hello world\"\n",
        "length = len(string)\n",
        "print(\"The length of the string is :\", length)\n"
      ],
      "metadata": {
        "colab": {
          "base_uri": "https://localhost:8080/"
        },
        "id": "rpjjfbBkJo-J",
        "outputId": "1d8fad6d-090d-4a71-93b6-9a76371c351f"
      },
      "execution_count": 5,
      "outputs": [
        {
          "output_type": "stream",
          "name": "stdout",
          "text": [
            "The length of the string is : 11\n"
          ]
        }
      ]
    },
    {
      "cell_type": "code",
      "source": [
        "# write a code to slice the first 3 characters from the string \"python programming\".\n",
        "string = \"python programming\"\n",
        "sliced_string = string[:3]\n",
        "print(sliced_string)\n",
        "\n"
      ],
      "metadata": {
        "colab": {
          "base_uri": "https://localhost:8080/"
        },
        "id": "7yoWltb_KVQ6",
        "outputId": "da96531b-60e4-4836-ea5f-3ebc415d69a8"
      },
      "execution_count": 6,
      "outputs": [
        {
          "output_type": "stream",
          "name": "stdout",
          "text": [
            "pyt\n"
          ]
        }
      ]
    },
    {
      "cell_type": "code",
      "source": [
        "# write a code to convert the string \"hello\" to uppercase.\n",
        "string =\"hello\"\n",
        "uppercase_string = string.upper()\n",
        "print(uppercase_string)"
      ],
      "metadata": {
        "colab": {
          "base_uri": "https://localhost:8080/"
        },
        "id": "CoMavBN3LQHc",
        "outputId": "ca22b0db-b738-4f82-8be5-d735a32938e8"
      },
      "execution_count": 7,
      "outputs": [
        {
          "output_type": "stream",
          "name": "stdout",
          "text": [
            "HELLO\n"
          ]
        }
      ]
    },
    {
      "cell_type": "code",
      "source": [
        "# .write a code to replace the word\"apple\" with \"orange\" in the string \"I like apple\"\n",
        "string = \"I like apple\"\n",
        "new_string = string.replace(\"apple\", \"orange\")\n",
        "print(new_string)"
      ],
      "metadata": {
        "colab": {
          "base_uri": "https://localhost:8080/"
        },
        "id": "b_FWIONyL91_",
        "outputId": "6116d28a-a0ea-41a0-fa3a-9a2069254ac5"
      },
      "execution_count": 10,
      "outputs": [
        {
          "output_type": "stream",
          "name": "stdout",
          "text": [
            "I like orange\n"
          ]
        }
      ]
    },
    {
      "cell_type": "code",
      "source": [
        "# Write a code to create a list with numbers 1to 5 and print it\n",
        "numbers = [1, 2, 3, 4, 5]\n",
        "print(numbers)"
      ],
      "metadata": {
        "colab": {
          "base_uri": "https://localhost:8080/"
        },
        "id": "r8T77ny7NE35",
        "outputId": "64930b80-8872-4bae-dfda-72fd7d9afacd"
      },
      "execution_count": 11,
      "outputs": [
        {
          "output_type": "stream",
          "name": "stdout",
          "text": [
            "[1, 2, 3, 4, 5]\n"
          ]
        }
      ]
    },
    {
      "cell_type": "code",
      "source": [
        "# write a code to append the numbers 10 to the list [1,2,3,4]\n",
        "numbers = [1, 2, 3, 4]\n",
        "numbers .append(10)\n",
        "print(numbers)"
      ],
      "metadata": {
        "colab": {
          "base_uri": "https://localhost:8080/"
        },
        "id": "FZk1R8WBOPue",
        "outputId": "ad23c744-4367-4307-8af4-06cd20147e81"
      },
      "execution_count": 12,
      "outputs": [
        {
          "output_type": "stream",
          "name": "stdout",
          "text": [
            "[1, 2, 3, 4, 10]\n"
          ]
        }
      ]
    },
    {
      "cell_type": "code",
      "source": [
        "# write a code to remove the number 3 from the list [1,2,3,4,5].\n",
        "numbers = [1, 2, 3, 4, 5]\n",
        "numbers.remove(3)\n",
        "print(numbers)"
      ],
      "metadata": {
        "colab": {
          "base_uri": "https://localhost:8080/"
        },
        "id": "nAR4zUxBOzPf",
        "outputId": "7db397bf-e189-4796-e8f6-db99258c9c60"
      },
      "execution_count": 15,
      "outputs": [
        {
          "output_type": "stream",
          "name": "stdout",
          "text": [
            "[1, 2, 4, 5]\n"
          ]
        }
      ]
    },
    {
      "cell_type": "code",
      "source": [
        "# Write a code to access the second element in the list ['a', 'b','c' 'd'].\n",
        "letters = ['a', 'b', 'c', 'd']\n",
        "second_element = letters[1]\n",
        "print(second_element)"
      ],
      "metadata": {
        "colab": {
          "base_uri": "https://localhost:8080/"
        },
        "id": "vwdHC40rPkJ6",
        "outputId": "3ce656b0-c49c-4507-fd04-f759b706d172"
      },
      "execution_count": 16,
      "outputs": [
        {
          "output_type": "stream",
          "name": "stdout",
          "text": [
            "b\n"
          ]
        }
      ]
    },
    {
      "cell_type": "code",
      "source": [
        "#.write a code to remove the number 3 from the list [1,2,3,4,5].\n",
        "numbers = [10, 20, 30, 40, 50]\n",
        "numbers.reverse()\n",
        "print(numbers)\n"
      ],
      "metadata": {
        "colab": {
          "base_uri": "https://localhost:8080/"
        },
        "id": "J-Msf9-nSano",
        "outputId": "de713416-b3f6-40fb-a59b-da0ab007d447"
      },
      "execution_count": 17,
      "outputs": [
        {
          "output_type": "stream",
          "name": "stdout",
          "text": [
            "[50, 40, 30, 20, 10]\n"
          ]
        }
      ]
    },
    {
      "cell_type": "code",
      "source": [
        "# Write a code to create a tuple with the elements 100,200,300 and print it.\n",
        "numbers = (100, 200, 300)\n",
        "print(numbers)"
      ],
      "metadata": {
        "colab": {
          "base_uri": "https://localhost:8080/"
        },
        "id": "0ia1ekOxS6H2",
        "outputId": "0090784c-d375-41db-ccfb-21b3bee1ae67"
      },
      "execution_count": 18,
      "outputs": [
        {
          "output_type": "stream",
          "name": "stdout",
          "text": [
            "(100, 200, 300)\n"
          ]
        }
      ]
    },
    {
      "cell_type": "code",
      "source": [
        "# Write a code a access the second-to-last element of the tuple ['red','green','blue','yellow']\n",
        "colors = ('red', 'green', 'blue', 'yellow')\n",
        "second_last = colors[-2]\n",
        "print(second_last)"
      ],
      "metadata": {
        "colab": {
          "base_uri": "https://localhost:8080/"
        },
        "id": "ME4aT1bHTVuY",
        "outputId": "78eee267-66b1-4596-a6c1-7cac561fba6c"
      },
      "execution_count": 19,
      "outputs": [
        {
          "output_type": "stream",
          "name": "stdout",
          "text": [
            "blue\n"
          ]
        }
      ]
    },
    {
      "cell_type": "code",
      "source": [
        "#.Write a code to find the minimum number in the tuple(10,20,5,15).\n",
        "numbers = (10, 20, 5, 15)\n",
        "min_number = min(numbers)\n",
        "print(min_number)"
      ],
      "metadata": {
        "colab": {
          "base_uri": "https://localhost:8080/"
        },
        "id": "SatjxwA2T6NQ",
        "outputId": "af03476b-de28-4b53-8493-537fe51e1d84"
      },
      "execution_count": 3,
      "outputs": [
        {
          "output_type": "stream",
          "name": "stdout",
          "text": [
            "5\n"
          ]
        }
      ]
    },
    {
      "cell_type": "code",
      "source": [
        "# .Write a code to find the index of the element \"cat\" in the tuple ('dog','cat','rabbit').\n",
        "animals = (\"dog\", \"cat\", \"rabbit\")\n",
        "index = animals.index(\"cat\")\n",
        "print(index)"
      ],
      "metadata": {
        "colab": {
          "base_uri": "https://localhost:8080/"
        },
        "id": "AxRuJHpaBOV-",
        "outputId": "4ed8b53d-ed53-4d99-947d-af45277153bf"
      },
      "execution_count": 4,
      "outputs": [
        {
          "output_type": "stream",
          "name": "stdout",
          "text": [
            "1\n"
          ]
        }
      ]
    },
    {
      "cell_type": "code",
      "source": [
        "# .Write a code to create a tuple containing three different fruits and check if \"kiwi\" is in it.tuple\n",
        "fruits = (\"apple\", \"banana\", \"orange\")\n",
        "if \"kiwi\" in fruits:\n",
        "    print(\"yes, kiwi is in the tuple.\")\n",
        "else:\n",
        "      print(\"no, kiwi is not in the tuple.\")\n"
      ],
      "metadata": {
        "colab": {
          "base_uri": "https://localhost:8080/"
        },
        "id": "0jVhnOgeCjj6",
        "outputId": "4980551c-70ee-4aab-d98d-e9a370d90082"
      },
      "execution_count": 8,
      "outputs": [
        {
          "output_type": "stream",
          "name": "stdout",
          "text": [
            "no, kiwi is not in the tuple.\n"
          ]
        }
      ]
    },
    {
      "cell_type": "code",
      "source": [
        "# Write a code to create a set with the elements 'a','b','c' and print it.\n",
        "letters = set(['a', 'b', 'c'])\n",
        "print(letters)"
      ],
      "metadata": {
        "colab": {
          "base_uri": "https://localhost:8080/"
        },
        "id": "69Hpi67rDjmB",
        "outputId": "bd081e41-7d67-436d-99d4-3a8c2dc8838a"
      },
      "execution_count": 11,
      "outputs": [
        {
          "output_type": "stream",
          "name": "stdout",
          "text": [
            "{'b', 'c', 'a'}\n"
          ]
        }
      ]
    },
    {
      "cell_type": "code",
      "source": [
        "#.Write a code clear all elements from the set{1,2,3,4}\n",
        "numbers = {1, 2, 3, 4, 5}\n",
        "numbers.clear()\n",
        "print(numbers)"
      ],
      "metadata": {
        "colab": {
          "base_uri": "https://localhost:8080/"
        },
        "id": "db6fZzYsEAj0",
        "outputId": "fb7e84e6-b09e-43fe-8294-c91ca2cd9207"
      },
      "execution_count": 12,
      "outputs": [
        {
          "output_type": "stream",
          "name": "stdout",
          "text": [
            "set()\n"
          ]
        }
      ]
    },
    {
      "cell_type": "code",
      "source": [
        "#.Write a code to remove the element 4 from the set{1,2,3,4}.\n",
        "numbers = {1, 2, 3, 4}\n",
        "numbers.remove(4)\n",
        "print(numbers)"
      ],
      "metadata": {
        "colab": {
          "base_uri": "https://localhost:8080/"
        },
        "id": "6KpQbQZzE3PB",
        "outputId": "a947f62a-c95c-4bed-9171-d669b753fbc8"
      },
      "execution_count": 13,
      "outputs": [
        {
          "output_type": "stream",
          "name": "stdout",
          "text": [
            "{1, 2, 3}\n"
          ]
        }
      ]
    },
    {
      "cell_type": "code",
      "source": [
        "# Write a code to find the union of two sets{1,2,3} and {3,4,5}\n",
        "set1 ={1, 2, 3}\n",
        "set2 = {3, 4, 5}\n",
        "union_set = set1.union(set2)\n",
        "print(union_set)"
      ],
      "metadata": {
        "colab": {
          "base_uri": "https://localhost:8080/"
        },
        "id": "sKmr04fzFJfE",
        "outputId": "7c234d51-ae68-4077-e3dc-cd2dac19ca6a"
      },
      "execution_count": 14,
      "outputs": [
        {
          "output_type": "stream",
          "name": "stdout",
          "text": [
            "{1, 2, 3, 4, 5}\n"
          ]
        }
      ]
    },
    {
      "cell_type": "code",
      "source": [
        "# .Write a code to find the intersection of two sets{1,2,3} and {2,3,4}.\n",
        "set1 = {1, 2, 3}\n",
        "set2 = {2, 3, 4}\n",
        "intersection_set = set1.intersection(set2)\n",
        "print(intersection_set)"
      ],
      "metadata": {
        "colab": {
          "base_uri": "https://localhost:8080/"
        },
        "id": "NrjmN3sqFvxQ",
        "outputId": "0a17849e-506c-4925-a54f-656182282f2e"
      },
      "execution_count": 15,
      "outputs": [
        {
          "output_type": "stream",
          "name": "stdout",
          "text": [
            "{2, 3}\n"
          ]
        }
      ]
    },
    {
      "cell_type": "code",
      "source": [
        "# Write a code to create a dictionary with the keys \"name\",\"age\", and \"city\",and print it\n",
        "person = {\n",
        "    \"name\": \"sneha\",\n",
        "    \"age\": 24,\n",
        "    \"city\": \"mumbai\"\n",
        "}\n",
        "print(person)"
      ],
      "metadata": {
        "colab": {
          "base_uri": "https://localhost:8080/"
        },
        "id": "-RN8MasZGP89",
        "outputId": "1a2eb42f-2215-4572-9284-30963bc20a47"
      },
      "execution_count": 16,
      "outputs": [
        {
          "output_type": "stream",
          "name": "stdout",
          "text": [
            "{'name': 'sneha', 'age': 24, 'city': 'mumbai'}\n"
          ]
        }
      ]
    },
    {
      "cell_type": "code",
      "source": [
        "# .Write a code to add a new key-value pair \"country\",\"USA\" to the dictionary {'name':'john','age':25}.\n",
        "person = {'name': 'john', 'age':25}\n",
        "person[\"country\"] = \"USA\"\n",
        "print(person)"
      ],
      "metadata": {
        "colab": {
          "base_uri": "https://localhost:8080/"
        },
        "id": "UQjxpG6THL6S",
        "outputId": "07b1cae8-7b7f-40f5-d004-f3b9f42de6df"
      },
      "execution_count": 17,
      "outputs": [
        {
          "output_type": "stream",
          "name": "stdout",
          "text": [
            "{'name': 'john', 'age': 25, 'country': 'USA'}\n"
          ]
        }
      ]
    },
    {
      "cell_type": "code",
      "source": [
        "# .Write a code to access the value associated with the key \"name\" in the dictionaty{'name':'Alice','age':30}.\n",
        "person = {'name': 'alice', 'city': 'paris'}\n",
        "if \"city\" in person:\n",
        "  print(\"yes, 'city' is in the dictionary.\")\n",
        "else:\n",
        "  print(\"no,'city' is not in the dictionary.\")\n",
        ""
      ],
      "metadata": {
        "colab": {
          "base_uri": "https://localhost:8080/"
        },
        "id": "gLeFIYvjHukN",
        "outputId": "7560ed43-3e6e-41a3-964a-e17c675dd60a"
      },
      "execution_count": 18,
      "outputs": [
        {
          "output_type": "stream",
          "name": "stdout",
          "text": [
            "yes, 'city' is in the dictionary.\n"
          ]
        }
      ]
    },
    {
      "cell_type": "code",
      "source": [
        "# Write a code to create alist with strings and print the element at the third index.\n",
        "fruits = ['apple', 'banana', 'cherry', 'date']\n",
        "third_element = fruits[2]\n",
        "print(third_element)\n"
      ],
      "metadata": {
        "colab": {
          "base_uri": "https://localhost:8080/"
        },
        "id": "KWSsmky8I1XM",
        "outputId": "3a9093be-039f-45cf-d8bf-641a5b096c7d"
      },
      "execution_count": 19,
      "outputs": [
        {
          "output_type": "stream",
          "name": "stdout",
          "text": [
            "cherry\n"
          ]
        }
      ]
    },
    {
      "cell_type": "code",
      "source": [
        "# Write a code to combine two dictionaries into one and print the result.\n",
        "dict1 = {'a': 1, 'b': 2}\n",
        "dict2 = {'c': 3, 'd': 4}\n",
        "\n",
        "combined_dict = {**dict1,**dict2}\n",
        "print(combined_dict)"
      ],
      "metadata": {
        "colab": {
          "base_uri": "https://localhost:8080/"
        },
        "id": "PAENz4-2OnEd",
        "outputId": "62b15dde-b4a9-46dd-a133-ff5625cedc84"
      },
      "execution_count": 20,
      "outputs": [
        {
          "output_type": "stream",
          "name": "stdout",
          "text": [
            "{'a': 1, 'b': 2, 'c': 3, 'd': 4}\n"
          ]
        }
      ]
    },
    {
      "cell_type": "code",
      "source": [
        "# Write a code to convert a list of strings into a set.\n",
        "string_list = ['apple', 'banana', 'apple', 'orange']\n",
        "string_set = set(string_list)\n",
        "print(string_set)\n"
      ],
      "metadata": {
        "colab": {
          "base_uri": "https://localhost:8080/"
        },
        "id": "U2OCFGDtPhkB",
        "outputId": "47c8ef68-5359-41cf-e07a-d8bd1ed595bf"
      },
      "execution_count": 22,
      "outputs": [
        {
          "output_type": "stream",
          "name": "stdout",
          "text": [
            "{'banana', 'orange', 'apple'}\n"
          ]
        }
      ]
    },
    {
      "cell_type": "code",
      "source": [],
      "metadata": {
        "id": "6KRTt6_vQLSm"
      },
      "execution_count": null,
      "outputs": []
    }
  ]
}